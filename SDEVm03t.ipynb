{
 "cells": [
  {
   "cell_type": "code",
   "execution_count": null,
   "id": "60537334-233b-4c1c-82de-8e4fe3c9e3ec",
   "metadata": {},
   "outputs": [],
   "source": [
    "# OOP Programming\n",
    "class Solution:\n",
    "    def sort012(self,arr,n):\n",
    "        # code here\n",
    "        arr.sort()\n",
    "        return arr\n",
    "\n",
    "if __name__ == '__main__':\n",
    "    t=int(input())\n",
    "    for _ in range(t):\n",
    "        n=int(input())\n",
    "        arr=[int(x) for x in input().strip().split()]\n",
    "        ob=Solution()\n",
    "        ob.sort012(arr,n)\n",
    "        for i in arr:\n",
    "            print(i, end=' ')\n",
    "        print()"
   ]
  },
  {
   "cell_type": "code",
   "execution_count": null,
   "id": "a97daddb-8a88-42a4-baf6-9a03c14f4018",
   "metadata": {},
   "outputs": [],
   "source": [
    "\n",
    "class Solution:\t\n",
    "\tdef binarysearch(self, arr, n, k):\n",
    "\t    \n",
    "        for i in range(len(arr)):\n",
    "            if len(arr)==n and arr[i]==k:\n",
    "                return i\n",
    "        else:\n",
    "                return -1\n",
    "\n",
    "class Solution:\t\n",
    "\tdef binarysearch(self, arr, n, k):\n",
    "\t    \n",
    "        for i in range(len(arr)):\n",
    "            if len(arr)==n and arr[i]==k:\n",
    "                return i\n",
    "        else:\n",
    "                return -1\n",
    "g"
   ]
  },
  {
   "cell_type": "code",
   "execution_count": null,
   "id": "235e9090-2ccf-4d55-a3c6-8c0789b4ad5b",
   "metadata": {},
   "outputs": [],
   "source": []
  }
 ],
 "metadata": {
  "kernelspec": {
   "display_name": "Python 3 (ipykernel)",
   "language": "python",
   "name": "python3"
  },
  "language_info": {
   "codemirror_mode": {
    "name": "ipython",
    "version": 3
   },
   "file_extension": ".py",
   "mimetype": "text/x-python",
   "name": "python",
   "nbconvert_exporter": "python",
   "pygments_lexer": "ipython3",
   "version": "3.11.7"
  }
 },
 "nbformat": 4,
 "nbformat_minor": 5
}
