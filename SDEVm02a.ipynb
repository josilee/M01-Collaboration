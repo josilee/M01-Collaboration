{
 "cells": [
  {
   "cell_type": "code",
   "execution_count": 5,
   "id": "68850a25-f322-4bb7-b21c-15beec27a94b",
   "metadata": {},
   "outputs": [
    {
     "name": "stdout",
     "output_type": "stream",
     "text": [
      "just right\n"
     ]
    }
   ],
   "source": [
    "# 4.1\n",
    "\n",
    "# Hardcoded values for demonstration\n",
    "secret = 7\n",
    "guess = 7\n",
    "\n",
    "# Conditional tests\n",
    "if guess < secret:\n",
    "    print('too low')\n",
    "elif guess > secret:\n",
    "    print('too high')\n",
    "else:\n",
    "    print('just right')"
   ]
  },
  {
   "cell_type": "code",
   "execution_count": 6,
   "id": "364dbe8b-876b-4f86-a325-1cf2ec13a2c8",
   "metadata": {},
   "outputs": [
    {
     "name": "stdout",
     "output_type": "stream",
     "text": [
      "cherry\n"
     ]
    }
   ],
   "source": [
    "# 4.2\n",
    "\n",
    "# Assigning values to the variables\n",
    "small = True  # True or False\n",
    "green = False  # True or False\n",
    "\n",
    "# Determine the item based on the attributes\n",
    "if small:\n",
    "    if green:\n",
    "        print(\"pea\")\n",
    "    else:\n",
    "        print(\"cherry\")\n",
    "else:\n",
    "    if green:\n",
    "        print(\"watermelon\")\n",
    "    else:\n",
    "        print(\"pumpkin\")"
   ]
  },
  {
   "cell_type": "code",
   "execution_count": 7,
   "id": "a9a7d9d3-132f-4c43-982b-a8c0e5df643a",
   "metadata": {},
   "outputs": [
    {
     "name": "stdout",
     "output_type": "stream",
     "text": [
      "3\n",
      "2\n",
      "1\n",
      "0\n"
     ]
    }
   ],
   "source": [
    "# 6.1\n",
    "\n",
    "# Define the list\n",
    "my_list = [3, 2, 1, 0]\n",
    "\n",
    "# Use a for loop to print each value\n",
    "for value in my_list:\n",
    "    print(value)"
   ]
  },
  {
   "cell_type": "code",
   "execution_count": 11,
   "id": "bdc73eb2-a4d9-4146-944e-5d1e8508af22",
   "metadata": {},
   "outputs": [
    {
     "name": "stdout",
     "output_type": "stream",
     "text": [
      "found it!\n"
     ]
    }
   ],
   "source": [
    "# 6.2\n",
    "\n",
    "# Assign initial values\n",
    "guess_me = 7\n",
    "number = 7\n",
    "\n",
    "# Start the while loop\n",
    "while True:\n",
    "    if number < guess_me:\n",
    "        print('too low')\n",
    "    elif number == guess_me:\n",
    "        print('found it!')\n",
    "        break  # Exit the loop\n",
    "    else:  # This means number > guess_me\n",
    "        print('oops')\n",
    "        break  # Exit the loop\n",
    "    number += 1 "
   ]
  },
  {
   "cell_type": "code",
   "execution_count": 12,
   "id": "1edbb65f-84ec-4643-a641-a4f0d1789696",
   "metadata": {},
   "outputs": [
    {
     "name": "stdout",
     "output_type": "stream",
     "text": [
      "too low\n",
      "too low\n",
      "too low\n",
      "too low\n",
      "too low\n",
      "found it!\n"
     ]
    }
   ],
   "source": [
    "# 6.3\n",
    "\n",
    "# Assign the value to guess_me\n",
    "guess_me = 5\n",
    "\n",
    "# Use a for loop to iterate over a range of numbers\n",
    "for number in range(10):\n",
    "    if number < guess_me:\n",
    "        print('too low')\n",
    "    elif number == guess_me:\n",
    "        print('found it!')\n",
    "        break  # Exit the loop after finding the match\n",
    "    else:  # This case happens when number is greater than guess_me\n",
    "        print('oops')\n",
    "        break  # Exit the loop if number > guess_me"
   ]
  },
  {
   "cell_type": "code",
   "execution_count": null,
   "id": "609305ec-d60f-421a-b529-bc5ce8940352",
   "metadata": {},
   "outputs": [],
   "source": []
  }
 ],
 "metadata": {
  "kernelspec": {
   "display_name": "Python 3 (ipykernel)",
   "language": "python",
   "name": "python3"
  },
  "language_info": {
   "codemirror_mode": {
    "name": "ipython",
    "version": 3
   },
   "file_extension": ".py",
   "mimetype": "text/x-python",
   "name": "python",
   "nbconvert_exporter": "python",
   "pygments_lexer": "ipython3",
   "version": "3.11.7"
  }
 },
 "nbformat": 4,
 "nbformat_minor": 5
}
